{
 "cells": [
  {
   "cell_type": "markdown",
   "metadata": {},
   "source": [
    "<img src=\"http://imgur.com/1ZcRyrc.png\" style=\"float: left; margin: 15px; height: 80px\">\n",
    "\n",
    "# Project 1\n",
    "\n",
    "### Building \"Pokemon Stay\"\n",
    "\n",
    "---\n",
    "You are an analyst at a \"scrappy\" online gaming company that specializes in remakes of last year's fads.\n",
    "\n",
    "Your boss, who runs the product development team, is convinced that Pokemon Go's fatal flaw was that you had to actually move around outside. She has design mock-ups for a new game called Pokemon Stay: in this version players still need to move, but just from website to website. Pokemon gyms are now popular online destinations, and catching Pokemon in the \"wild\" simply requires browsing the internet for hours in the comfort of your home.\n",
    "\n",
    "She wants you to program a prototype version of the game, and analyze the planned content to help the team calibrate the design."
   ]
  },
  {
   "cell_type": "markdown",
   "metadata": {},
   "source": [
    "#### Package imports\n",
    "\n",
    "The pprint package below is the only package imported here, and it's not even strictly required to do any of the project. Printing python variables and objects with pprint can help to format them in a \"prettier\" way."
   ]
  },
  {
   "cell_type": "code",
   "execution_count": 1,
   "metadata": {},
   "outputs": [],
   "source": [
    "from pprint import pprint\n",
    "import random"
   ]
  },
  {
   "cell_type": "markdown",
   "metadata": {},
   "source": [
    "<img src=\"http://imgur.com/l5NasQj.png\" style=\"float: left; margin: 25px 15px 0px 0px; height: 25px\">\n",
    "\n",
    "## 1. Defining a player\n",
    "\n",
    "---\n",
    "\n",
    "The player variables are:\n",
    "\n",
    "    player_id : id code unique to each player (integer)\n",
    "    player_name : entered name of the player (string)\n",
    "    time_played : number of time played the game in minutes (float)\n",
    "    player_pokemon: the player's captured pokemon (dictionary)\n",
    "    gyms_visited: ids of the gyms that a player has visited (list)\n",
    "    \n",
    "Create the components for a player object by defining each of these variables. The dictionary and list variables should just be defined as empty; you can use any (correctly typed) values for the others."
   ]
  },
  {
   "cell_type": "code",
   "execution_count": 2,
   "metadata": {},
   "outputs": [],
   "source": [
    "class Player:\n",
    "    def __init__(self, player_id, player_name, time_played, player_pokemon, gyms_visited):\n",
    "        self.player_id = player_id\n",
    "        self.player_name = player_name\n",
    "        self.time_played = time_played\n",
    "        self.player_pokemon = player_pokemon\n",
    "        self.gyms_visited = gyms_visited\n",
    "        \n",
    "p1 = Player(1,\"John\",0.0,{},[]) #Player 1 attributes"
   ]
  },
  {
   "cell_type": "markdown",
   "metadata": {},
   "source": [
    "<img src=\"http://imgur.com/l5NasQj.png\" style=\"float: left; margin: 25px 15px 0px 0px; height: 25px\">\n",
    "\n",
    "## 2. Defining \"gym\" locations\n",
    "\n",
    "---\n",
    "\n",
    "As the sole programmer, Pokemon Stay will have to start small. To begin, there will be 10 different gym location websites on the internet. The gym locations are:\n",
    "\n",
    "    1. 'reddit.com'\n",
    "    2. 'amazon.com'\n",
    "    3. 'twitter.com'\n",
    "    4. 'linkedin.com'\n",
    "    5. 'ebay.com'\n",
    "    6. 'netflix.com'\n",
    "    7. 'sporcle.com'\n",
    "    8. 'stackoverflow.com'\n",
    "    9. 'github.com'\n",
    "    10. 'quora.com'\n",
    "\n",
    "1. Set up a list of all the gym locations. This will be a list of strings.\n",
    "2. Append two of these locations to your player's list of visited gyms.\n",
    "3. Print the list."
   ]
  },
  {
   "cell_type": "code",
   "execution_count": 3,
   "metadata": {},
   "outputs": [
    {
     "name": "stdout",
     "output_type": "stream",
     "text": [
      "['linkedin.com', 'ebay.com']\n"
     ]
    }
   ],
   "source": [
    "pokemon_gyms = ['reddit.com','amazon.com','twitter.com','linkedin.com','ebay.com','netflix.com','sporcle.com','stackoverflow.com','github.com','quora.com']\n",
    "player_gym = set()\n",
    "\n",
    "# randomly generate 2 unique gym locations & add it to p1 attribute\n",
    "while len(player_gym) < 2:\n",
    "    num = random.randrange(0,10)\n",
    "    player_gym.add(num)\n",
    "\n",
    "for num in player_gym:\n",
    "    p1.gyms_visited.append(pokemon_gyms[num])\n",
    "\n",
    "print(p1.gyms_visited) "
   ]
  },
  {
   "cell_type": "markdown",
   "metadata": {},
   "source": [
    "<img src=\"http://imgur.com/l5NasQj.png\" style=\"float: left; margin: 25px 15px 0px 0px; height: 25px\">\n",
    "\n",
    "## 3. Create a pokedex\n",
    "\n",
    "---\n",
    "\n",
    "We also need to create some pokemon to catch. Each pokemon will be defined by these variables:\n",
    "\n",
    "    pokemon_id : unique identifier for each pokemon (integer)\n",
    "    name : the name of the pokemon (string)\n",
    "    type : the category of pokemon (string)\n",
    "    hp : base hitpoints (integer)\n",
    "    attack : base attack (integer)\n",
    "    defense : base defense (integer)\n",
    "    special_attack : base special attack (integer)\n",
    "    special_defense : base sepecial defense (integer)\n",
    "    speed : base speed (integer)\n",
    "\n",
    "We are only going to create 3 different pokemon with these `pokemon_id` and `pokemon_name` values:\n",
    "\n",
    "    1 : 'charmander'\n",
    "    2 : 'squirtle'\n",
    "    3 : 'bulbasaur'\n",
    "\n",
    "Create a dictionary that will contain the pokemon. The keys of the dictionary will be the `pokemon_id` and the values will themselves dictionaries that contain the other pokemon variables. The structure of the pokedex dictionary will start like so:\n",
    "     \n",
    "     {\n",
    "         1: {\n",
    "                 'name':'charmander',\n",
    "                 'type':'fire',\n",
    "                 ...\n",
    "                 \n",
    "The `type` of charmander, squirtle, and bulbasaur should be `'fire'`, `'water'`, and `'poison'` respectively. The other values are up to you, make them anything you like!\n",
    "\n",
    "Print (or pretty print) the pokedex dictionary with the 3 pokemon."
   ]
  },
  {
   "cell_type": "code",
   "execution_count": 4,
   "metadata": {},
   "outputs": [],
   "source": [
    "pokedex = {\n",
    "    1: {\n",
    "        'name':'charmander',\n",
    "        'type':'fire',\n",
    "        'hp':1000,\n",
    "        'attack':10,\n",
    "        'defence':20,\n",
    "        'special_attack':20,\n",
    "        'special_defence':30,\n",
    "        'speed':2\n",
    "    } ,\n",
    "    2: {\n",
    "        'name':'squirtle',\n",
    "        'type':'water',\n",
    "        'hp':1200,\n",
    "        'attack':8,\n",
    "        'defence':20,\n",
    "        'special_attack':15,\n",
    "        'special_defence':40,\n",
    "        'speed':1\n",
    "    } ,\n",
    "    3: {\n",
    "        'name':'bulbasaur',\n",
    "        'type':'posion',\n",
    "        'hp':800,\n",
    "        'attack':15,\n",
    "        'defence':10,\n",
    "        'special_attack':25,\n",
    "        'special_defence':25,\n",
    "        'speed':3\n",
    "    } \n",
    "}"
   ]
  },
  {
   "cell_type": "markdown",
   "metadata": {},
   "source": [
    "<img src=\"http://imgur.com/l5NasQj.png\" style=\"float: left; margin: 25px 15px 0px 0px; height: 25px\">\n",
    "\n",
    "## 4. Create a data structure for players\n",
    "\n",
    "---\n",
    "\n",
    "### 4.1 \n",
    "\n",
    "In order to maintain a database of multiple players, create a dictionary that keeps track of players indexed by `player_id`. \n",
    "\n",
    "The keys of the dictionary will be `player_id` and values will be dictionaries containing each player's variables (from question 1). \n",
    "\n",
    "Construct the `players` dictionary and insert the player that you defined in question 1, then print `players`."
   ]
  },
  {
   "cell_type": "code",
   "execution_count": 5,
   "metadata": {
    "scrolled": true
   },
   "outputs": [
    {
     "name": "stdout",
     "output_type": "stream",
     "text": [
      "==========================================\n",
      "Name:  John\n",
      "Time played in minutes:  0.0\n",
      "List of captured pokemon:  {}\n",
      "Gyms visited:  ['linkedin.com', 'ebay.com']\n",
      "==========================================\n"
     ]
    }
   ],
   "source": [
    "players = {p1.player_id:p1}\n",
    "\n",
    "for key in players.keys():\n",
    "    print(\"==========================================\")\n",
    "    print(\"Name: \", players[key].player_name)\n",
    "    print(\"Time played in minutes: \", players[key].time_played)\n",
    "    print(\"List of captured pokemon: \", players[key].player_pokemon)\n",
    "    print(\"Gyms visited: \", players[key].gyms_visited)\n",
    "    print(\"==========================================\")"
   ]
  },
  {
   "cell_type": "markdown",
   "metadata": {},
   "source": [
    "---\n",
    "\n",
    "### 4.2\n",
    "\n",
    "Create a new player with `player_id = 2` in the `players` dictionary. Leave the `'player_pokemon'` dictionary empty. Append `'alcatraz'` and `'pacific_beach'` to the `'gyms_visited'` list for player 2.\n",
    "\n",
    "The `'player_name'` and `'time_played'` values are up to you, but must be a string and float, respectively.\n",
    "\n",
    "Remember, the player_id is the key for the player in the players dictionary.\n",
    "\n",
    "Print the `players` dictionary with the new player inserted."
   ]
  },
  {
   "cell_type": "code",
   "execution_count": 6,
   "metadata": {},
   "outputs": [
    {
     "name": "stdout",
     "output_type": "stream",
     "text": [
      "==========================================\n",
      "Name:  John\n",
      "Time played in minutes:  0.0\n",
      "List of captured pokemon:  {}\n",
      "Gyms visited:  ['linkedin.com', 'ebay.com']\n",
      "==========================================\n",
      "==========================================\n",
      "Name:  Ash\n",
      "Time played in minutes:  20.0\n",
      "List of captured pokemon:  {}\n",
      "Gyms visited:  ['alcatraz', 'pacific_beach']\n",
      "==========================================\n"
     ]
    }
   ],
   "source": [
    "p2 = Player(2, 'Ash', 20.0, {}, ['alcatraz','pacific_beach'])\n",
    "\n",
    "players[2]=p2\n",
    "\n",
    "for key in players.keys():\n",
    "    print(\"==========================================\")\n",
    "    print(\"Name: \", players[key].player_name)\n",
    "    print(\"Time played in minutes: \", players[key].time_played)\n",
    "    print(\"List of captured pokemon: \", players[key].player_pokemon)\n",
    "    print(\"Gyms visited: \", players[key].gyms_visited)\n",
    "    print(\"==========================================\")"
   ]
  },
  {
   "cell_type": "markdown",
   "metadata": {},
   "source": [
    "<img src=\"http://imgur.com/l5NasQj.png\" style=\"float: left; margin: 25px 15px 0px 0px; height: 25px\">\n",
    "\n",
    "## 5. Add captured pokemon for each player\n",
    "\n",
    "---\n",
    "\n",
    "The `'player_pokemon'` keyed dictionaries for each player keep track of which of the pokemon each player has.\n",
    "\n",
    "The keys of the `'player_pokemon'` dictionaries are the pokemon ids that correspond to the ids in the `pokedex` dictionary you created earlier. The values are integers specifying the stats for the pokemon.\n",
    "\n",
    "Give player 1 a squirtle. Give player 2 charmander and a bulbasaur.\n",
    "\n",
    "Print the players dictionary after adding the pokemon for each player.\n"
   ]
  },
  {
   "cell_type": "code",
   "execution_count": 7,
   "metadata": {},
   "outputs": [
    {
     "name": "stdout",
     "output_type": "stream",
     "text": [
      "==========================================\n",
      "Name:  John\n",
      "Time played in minutes:  0.0\n",
      "List of captured pokemon:  {2: {'name': 'squirtle', 'type': 'water', 'hp': 1200, 'attack': 8, 'defence': 20, 'special_attack': 15, 'special_defence': 40, 'speed': 1}}\n",
      "Gyms visited:  ['linkedin.com', 'ebay.com']\n",
      "==========================================\n",
      "==========================================\n",
      "Name:  Ash\n",
      "Time played in minutes:  20.0\n",
      "List of captured pokemon:  {1: {'name': 'charmander', 'type': 'fire', 'hp': 1000, 'attack': 10, 'defence': 20, 'special_attack': 20, 'special_defence': 30, 'speed': 2}, 3: {'name': 'bulbasaur', 'type': 'posion', 'hp': 800, 'attack': 15, 'defence': 10, 'special_attack': 25, 'special_defence': 25, 'speed': 3}}\n",
      "Gyms visited:  ['alcatraz', 'pacific_beach']\n",
      "==========================================\n"
     ]
    }
   ],
   "source": [
    "p1.player_pokemon[2]=pokedex[2]\n",
    "p2.player_pokemon[1]=pokedex[1]\n",
    "p2.player_pokemon[3]=pokedex[3]\n",
    "\n",
    "for key in players.keys():\n",
    "    print(\"==========================================\")\n",
    "    print(\"Name: \", players[key].player_name)\n",
    "    print(\"Time played in minutes: \", players[key].time_played)\n",
    "    print(\"List of captured pokemon: \", players[key].player_pokemon)\n",
    "    print(\"Gyms visited: \", players[key].gyms_visited)\n",
    "    print(\"==========================================\")"
   ]
  },
  {
   "cell_type": "markdown",
   "metadata": {},
   "source": [
    "\n",
    "\n",
    "## 6. What gyms have players visited?\n",
    "\n",
    "---\n",
    "<img src=\"http://imgur.com/l5NasQj.png\" style=\"float: left; margin: 25px 15px 0px 0px; height: 25px\">\n",
    "### 6.1\n",
    "\n",
    "Write a for-loop that:\n",
    "\n",
    "1. Iterates through the `pokemon_gyms` list of gym locations you defined before.\n",
    "2. For each gym, iterate through each player in the `players` dictionary with a second, internal for-loop.\n",
    "3. If the player has visited the gym, print out \"[player] has visited [gym location].\", filling in [player] and [gym location] with the current player's name and current gym location."
   ]
  },
  {
   "cell_type": "code",
   "execution_count": 8,
   "metadata": {},
   "outputs": [
    {
     "name": "stdout",
     "output_type": "stream",
     "text": [
      "John has visited linkedin.com\n",
      "John has visited ebay.com\n"
     ]
    }
   ],
   "source": [
    "for place in pokemon_gyms:\n",
    "    for id in players:\n",
    "        if place in players[id].gyms_visited:\n",
    "            print(players[id].player_name, 'has visited', place)"
   ]
  },
  {
   "cell_type": "markdown",
   "metadata": {},
   "source": [
    "<img src=\"http://imgur.com/xDpSobf.png\" style=\"float: left; margin: 25px 15px 0px 0px; height: 25px\">\n",
    "### 6.2\n",
    "\n",
    "How many times did that loop run? If you have N gyms and also N players, how many times would it run as a function of N?\n",
    "\n",
    "Can you think of a more efficient way to accomplish the same thing? \n",
    "\n",
    "(You can write your answer as Markdown text.)"
   ]
  },
  {
   "cell_type": "code",
   "execution_count": 9,
   "metadata": {},
   "outputs": [
    {
     "name": "stdout",
     "output_type": "stream",
     "text": [
      "John has visited linkedin.com\n",
      "John has visited ebay.com\n"
     ]
    }
   ],
   "source": [
    "### Number of times: 10 x 2\n",
    "### Number of times: N x N\n",
    "### a possible more efficient way is to loop through the gym_visited by player first and check if the place is in pokemon_gyms\n",
    "for id in players:\n",
    "    for place in players[id].gyms_visited:\n",
    "        if place in pokemon_gyms:\n",
    "            print(players[id].player_name, 'has visited', place)"
   ]
  },
  {
   "cell_type": "markdown",
   "metadata": {},
   "source": [
    "<img src=\"http://imgur.com/l5NasQj.png\" style=\"float: left; margin: 25px 15px 0px 0px; height: 25px\">\n",
    "\n",
    "## 7. Calculate player \"power\".\n",
    "\n",
    "---\n",
    "\n",
    "Define a function that will calculate a player's \"power\". Player power is defined as the sum of the base statistics all of their pokemon.\n",
    "\n",
    "Your function will:\n",
    "\n",
    "1. Accept the `players` dictionary, `pokedex` dictionary, and a player_id as arguments.\n",
    "2. For the specified player_id, look up that player's pokemon and their level(s).\n",
    "3. Find and aggregate the attack and defense values for each of the player's pokemon from the `pokedex` dictionary.\n",
    "4. Print \"[player name]'s power is [player power].\", where the player power is the sum of the base statistics for all of their pokemon.\n",
    "5. Return the player's power value.\n",
    "\n",
    "Print out the pokemon power for each of your players."
   ]
  },
  {
   "cell_type": "code",
   "execution_count": 11,
   "metadata": {
    "scrolled": true
   },
   "outputs": [
    {
     "name": "stdout",
     "output_type": "stream",
     "text": [
      "John's power is 28\n",
      "Ash's power is 55\n"
     ]
    }
   ],
   "source": [
    "def calculatepower(players, pokedex, player_id):\n",
    "    '''Calculate power of player based on sum of base statistics of all their pokemon.\n",
    "    Base statistics is referenced from pokedex'''\n",
    "    \n",
    "    powerscore = 0\n",
    "    for i in players[player_id].player_pokemon.keys():  #pokemonnumbers that each player has\n",
    "        powerscore+=pokedex[i][\"attack\"]+pokedex[i][\"defence\"]\n",
    "    print(players[player_id].player_name + \"'s power is\",powerscore)\n",
    "    return powerscore\n",
    "\n",
    "p1.power = calculatepower(players,pokedex,1)\n",
    "p2.power = calculatepower(players,pokedex,2)"
   ]
  },
  {
   "cell_type": "markdown",
   "metadata": {
    "collapsed": true
   },
   "source": [
    "<img src=\"http://imgur.com/l5NasQj.png\" style=\"float: left; margin: 25px 15px 0px 0px; height: 25px\">\n",
    "\n",
    "## 8. Load a pokedex file containing all the pokemon\n",
    "\n",
    "---\n",
    "\n",
    "### 8.1\n",
    "\n",
    "While you were putting together the prototype code, your colleagues were preparing a dataset of Pokemon and their attributes. (This was a rush job, so they may have picked some crazy values for some...)\n",
    "\n",
    "The code below loads information from a comma separated value (csv) file. You need to parse this string into a more useable format. The format of the string is:\n",
    "\n",
    "- Rows are separated by newline characters: \\n\n",
    "- Columns are separated by commas: ,\n",
    "- All cells in the csv are double quoted. Ex: \"PokedexNumber\" is the first cell of the first row.\n",
    "\n",
    "\n",
    "Using for-loops, create a list of lists where each list within the overall list is a row of the csv/matrix, and each element in that list is a cell in that row. Additional criteria:\n",
    "\n",
    "1. Quotes are removed from each cell item.\n",
    "2. Numeric column values are converted to floats.\n",
    "3. There are some cells that are empty and have no information. For these cells put a -1 value in place.\n",
    "\n",
    "Your end result is effectively a matrix. Each list in the outer list is a row, and the *j*th elements of list together form the *j*th column, which represents a data attribute. The first three lists in your pokedex list should look like this:\n",
    "\n",
    "    ['PokedexNumber', 'Name', 'Type', 'Total', 'HP', 'Attack', 'Defense', 'SpecialAttack', 'SpecialDefense', 'Speed']\n",
    "    [1.0, 'Bulbasaur', 'GrassPoison', 318.0, 45.0, 49.0, 49.0, 65.0, 65.0, 45.0]\n",
    "    [2.0, 'Ivysaur', 'GrassPoison', 405.0, 60.0, 62.0, 63.0, 80.0, 80.0, 60.0]"
   ]
  },
  {
   "cell_type": "code",
   "execution_count": 12,
   "metadata": {},
   "outputs": [],
   "source": [
    "# Code to read in pokedex info\n",
    "raw_pd = ''\n",
    "pokedex_file = 'pokedex_basic.csv'\n",
    "with open(pokedex_file, 'r') as f:\n",
    "    raw_pd = f.read()\n",
    "    \n",
    "# the pokedex string is assigned to the raw_pd variable"
   ]
  },
  {
   "cell_type": "code",
   "execution_count": 13,
   "metadata": {},
   "outputs": [],
   "source": [
    "clean1 = raw_pd.splitlines()"
   ]
  },
  {
   "cell_type": "code",
   "execution_count": 18,
   "metadata": {},
   "outputs": [
    {
     "name": "stdout",
     "output_type": "stream",
     "text": [
      "[['PokedexNumber', 'Name', 'Type', 'Total', 'HP', 'Attack', 'Defense', 'SpecialAttack', 'SpecialDefense', 'Speed'], [1.0, 'Bulbasaur', 'GrassPoison', 318.0, 45.0, 49.0, 49.0, 65.0, 65.0, 45.0], [2.0, 'Ivysaur', 'GrassPoison', 405.0, 60.0, 62.0, 63.0, 80.0, 80.0, 60.0]]\n"
     ]
    }
   ],
   "source": [
    "cleanraw = []\n",
    "\n",
    "#remove \" from the elements of data and split it into a list\n",
    "for line in clean1:\n",
    "    cleanraw.append((line).replace('\"','').split(','))\n",
    "    \n",
    "#check if the element is numeric and converts it to a float type.\n",
    "#check if there are blanks in the data and replace with -1\n",
    "for line in cleanraw:\n",
    "    for i,word in enumerate(line):\n",
    "        if word.isdigit():\n",
    "            line[i]=float(word)\n",
    "        elif word == \"\":\n",
    "            line[i] = -1\n",
    "\n",
    "print(cleanraw[:3])"
   ]
  },
  {
   "cell_type": "markdown",
   "metadata": {},
   "source": [
    "<img src=\"http://imgur.com/xDpSobf.png\" style=\"float: left; margin: 25px 15px 0px 0px; height: 25px\">\n",
    "\n",
    "### 8.2 Parse the raw pokedex with list comprehensions\n",
    "\n",
    "---\n",
    "\n",
    "Perform the same parsing as above, but **using only a single list comprehension** instead of for loops. You may have nested list comprehensions within the main list comprehension! The output should be exactly the same."
   ]
  },
  {
   "cell_type": "code",
   "execution_count": 23,
   "metadata": {},
   "outputs": [
    {
     "name": "stdout",
     "output_type": "stream",
     "text": [
      "[['PokedexNumber', 'Name', 'Type', 'Total', 'HP', 'Attack', 'Defense', 'SpecialAttack', 'SpecialDefense', 'Speed'], [1.0, 'Bulbasaur', 'GrassPoison', 318.0, 45.0, 49.0, 49.0, 65.0, 65.0, 45.0], [2.0, 'Ivysaur', 'GrassPoison', 405.0, 60.0, 62.0, 63.0, 80.0, 80.0, 60.0]]\n"
     ]
    }
   ],
   "source": [
    "cleanraw1 = [[float(j) if j.isdigit() else -1 if j==\"\" else j for j in x.replace('\"','').split(',')] for x in clean1]\n",
    "print(cleanraw1[:3])"
   ]
  },
  {
   "cell_type": "markdown",
   "metadata": {},
   "source": [
    "<img src=\"http://imgur.com/l5NasQj.png\" style=\"float: left; margin: 25px 15px 0px 0px; height: 25px\">\n",
    "\n",
    "## 9. Write a function to generate the full pokedex\n",
    "\n",
    "---\n",
    "\n",
    "Write a function that recreates the pokedex you made before, but with the data read in from the full pokemon file. The `PokedexNumber` should be used as the `pokemon_id` key values for the dictionary of pokemon.\n",
    "\n",
    "Your function should:\n",
    "\n",
    "1. Take the parsed pokedex information you created above as an argument.\n",
    "2. Return a dictionary in the same format as your original pokedex you created before containing the information from the parsed full pokedex file.\n",
    "\n",
    "To test the function, print out the pokemon with id = 100."
   ]
  },
  {
   "cell_type": "code",
   "execution_count": 24,
   "metadata": {
    "scrolled": true
   },
   "outputs": [
    {
     "name": "stdout",
     "output_type": "stream",
     "text": [
      "{'Name': 'Voltorb', 'Type': 'Electric', 'Total': 330.0, 'HP': 40.0, 'Attack': 30.0, 'Defense': 50.0, 'SpecialAttack': 55.0, 'SpecialDefense': 55.0, 'Speed': 100.0}\n"
     ]
    }
   ],
   "source": [
    "def pokedex_function(datafile):\n",
    "    ''' Function to generate full pokedex. function will also check if there are duplicate pokedexnumber\n",
    "    and will replace it with a unique id if there are duplicates'''\n",
    "    \n",
    "    poke_dictionary = {}\n",
    "    header = datafile[0]\n",
    "    \n",
    "    #temp variables to handle non-unique pokedexNumber\n",
    "    temp_id = 0 \n",
    "    problem_id = 0\n",
    "    max_index = len(datafile)\n",
    "    \n",
    "    #loop through the datafile to look for duplicate pokedexnumber, if not, generate the pokemon dictionary\n",
    "    for entry in datafile[1:]:\n",
    "        #if current pokedex number is same as the previous one or known to be a duplicate\n",
    "        if temp_id == entry[0] or problem_id == entry[0]: \n",
    "            max_index+=1.0\n",
    "            temp_id =  max_index # current number is non-unique, assign unique number\n",
    "            problem_id = entry[0] # store number for checking if there are >2 duplicate ids\n",
    "        else:\n",
    "            temp_id = entry[0] #unique number\n",
    "        poke_dictionary[temp_id] = dict(zip(header[1:], entry[1:]))\n",
    "    return poke_dictionary\n",
    "\n",
    "pokedex_data = pokedex_function(cleanraw)\n",
    "print(pokedex_data[100])"
   ]
  },
  {
   "cell_type": "markdown",
   "metadata": {},
   "source": [
    "<img src=\"http://i.imgur.com/GCAf1UX.png\" style=\"float: left; margin: 25px 15px 0px 0px; height: 25px\">\n",
    "\n",
    "## 10. Write a function to generate a \"filtered\" pokedex\n",
    "---\n",
    "Your function should:\n",
    "1. Take the parsed pokedex information you created above as an argument.\n",
    "1. Take a dictionary as a parameter with keys matching the features of the Pokedex, filtering by exact match for string type values, and/or filter continuous variables specified value that is greater than or equal to the dictionary key parameter.\n",
    "1. Return multiple elements from the Pokedex\n",
    "\n",
    "Example:\n",
    "\n",
    "```python\n",
    "\n",
    "# Only filter based on parameters passed\n",
    "filter_options = {\n",
    "    'Attack':   25,\n",
    "    'Defense':  30,\n",
    "    'Type':     'Electric'\n",
    "}\n",
    "\n",
    "# Return records with attack >= 24, defense >= 30, and type == \"Electric\"\n",
    "# Also anticipate that other paramters can also be passed such as \"SpecialAttack\", \"Speed\", etc.\n",
    "filtered_pokedex(pokedex_data, filter=filter_options)\n",
    "\n",
    "# Example output:\n",
    "# [{'Attack': 30.0,\n",
    "#  'Defense': 50.0,\n",
    "#  'HP': 40.0,\n",
    "#  'Name': 'Voltorb',\n",
    "#  'SpecialAttack': 55.0,\n",
    "#  'SpecialDefense': 55.0,\n",
    "#  'Speed': 100.0,\n",
    "#  'Total': 330.0,\n",
    "#  'Type': 'Electric'},\n",
    "#  {'Attack': 30.0,\n",
    "#  'Defense': 33.0,\n",
    "#  'HP': 32.0,\n",
    "#  'Name': 'Pikachu',\n",
    "#  'SpecialAttack': 55.0,\n",
    "#  'SpecialDefense': 55.0,\n",
    "#  'Speed': 100.0,\n",
    "#  'Total': 330.0,\n",
    "#  'Type': 'Electric'},\n",
    "#  ... etc\n",
    "#  ]\n",
    "\n",
    "```\n",
    "\n"
   ]
  },
  {
   "cell_type": "code",
   "execution_count": 25,
   "metadata": {},
   "outputs": [
    {
     "data": {
      "text/plain": [
       "[{'Name': 'Charmeleon',\n",
       "  'Type': 'Fire',\n",
       "  'Total': 405.0,\n",
       "  'HP': 58.0,\n",
       "  'Attack': 64.0,\n",
       "  'Defense': 58.0,\n",
       "  'SpecialAttack': 80.0,\n",
       "  'SpecialDefense': 65.0,\n",
       "  'Speed': 80.0},\n",
       " {'Name': 'Ninetales',\n",
       "  'Type': 'Fire',\n",
       "  'Total': 505.0,\n",
       "  'HP': 73.0,\n",
       "  'Attack': 76.0,\n",
       "  'Defense': 75.0,\n",
       "  'SpecialAttack': 81.0,\n",
       "  'SpecialDefense': 100.0,\n",
       "  'Speed': 100.0},\n",
       " {'Name': 'Arcanine',\n",
       "  'Type': 'Fire',\n",
       "  'Total': 555.0,\n",
       "  'HP': 90.0,\n",
       "  'Attack': 110.0,\n",
       "  'Defense': 80.0,\n",
       "  'SpecialAttack': 100.0,\n",
       "  'SpecialDefense': 80.0,\n",
       "  'Speed': 95.0},\n",
       " {'Name': 'Ponyta',\n",
       "  'Type': 'Fire',\n",
       "  'Total': 410.0,\n",
       "  'HP': 50.0,\n",
       "  'Attack': 85.0,\n",
       "  'Defense': 55.0,\n",
       "  'SpecialAttack': 65.0,\n",
       "  'SpecialDefense': 65.0,\n",
       "  'Speed': 90.0},\n",
       " {'Name': 'Rapidash',\n",
       "  'Type': 'Fire',\n",
       "  'Total': 500.0,\n",
       "  'HP': 65.0,\n",
       "  'Attack': 100.0,\n",
       "  'Defense': 70.0,\n",
       "  'SpecialAttack': 80.0,\n",
       "  'SpecialDefense': 80.0,\n",
       "  'Speed': 105.0},\n",
       " {'Name': 'Magmar',\n",
       "  'Type': 'Fire',\n",
       "  'Total': 495.0,\n",
       "  'HP': 65.0,\n",
       "  'Attack': 95.0,\n",
       "  'Defense': 57.0,\n",
       "  'SpecialAttack': 100.0,\n",
       "  'SpecialDefense': 85.0,\n",
       "  'Speed': 93.0},\n",
       " {'Name': 'Flareon',\n",
       "  'Type': 'Fire',\n",
       "  'Total': 525.0,\n",
       "  'HP': 65.0,\n",
       "  'Attack': 130.0,\n",
       "  'Defense': 60.0,\n",
       "  'SpecialAttack': 95.0,\n",
       "  'SpecialDefense': 110.0,\n",
       "  'Speed': 65.0},\n",
       " {'Name': 'Quilava',\n",
       "  'Type': 'Fire',\n",
       "  'Total': 405.0,\n",
       "  'HP': 58.0,\n",
       "  'Attack': 64.0,\n",
       "  'Defense': 58.0,\n",
       "  'SpecialAttack': 80.0,\n",
       "  'SpecialDefense': 65.0,\n",
       "  'Speed': 80.0},\n",
       " {'Name': 'Typhlosion',\n",
       "  'Type': 'Fire',\n",
       "  'Total': 534.0,\n",
       "  'HP': 78.0,\n",
       "  'Attack': 84.0,\n",
       "  'Defense': 78.0,\n",
       "  'SpecialAttack': 109.0,\n",
       "  'SpecialDefense': 85.0,\n",
       "  'Speed': 100.0},\n",
       " {'Name': 'Entei',\n",
       "  'Type': 'Fire',\n",
       "  'Total': 580.0,\n",
       "  'HP': 115.0,\n",
       "  'Attack': 115.0,\n",
       "  'Defense': 85.0,\n",
       "  'SpecialAttack': 90.0,\n",
       "  'SpecialDefense': 75.0,\n",
       "  'Speed': 100.0},\n",
       " {'Name': 'Torkoal',\n",
       "  'Type': 'Fire',\n",
       "  'Total': 470.0,\n",
       "  'HP': 70.0,\n",
       "  'Attack': 85.0,\n",
       "  'Defense': 140.0,\n",
       "  'SpecialAttack': 85.0,\n",
       "  'SpecialDefense': 70.0,\n",
       "  'Speed': 20.0},\n",
       " {'Name': 'Magmortar',\n",
       "  'Type': 'Fire',\n",
       "  'Total': 540.0,\n",
       "  'HP': 75.0,\n",
       "  'Attack': 95.0,\n",
       "  'Defense': 67.0,\n",
       "  'SpecialAttack': 125.0,\n",
       "  'SpecialDefense': 95.0,\n",
       "  'Speed': 83.0},\n",
       " {'Name': 'Simisear',\n",
       "  'Type': 'Fire',\n",
       "  'Total': 498.0,\n",
       "  'HP': 75.0,\n",
       "  'Attack': 98.0,\n",
       "  'Defense': 63.0,\n",
       "  'SpecialAttack': 98.0,\n",
       "  'SpecialDefense': 63.0,\n",
       "  'Speed': 101.0},\n",
       " {'Name': 'DarmanitanStandard Mode',\n",
       "  'Type': 'Fire',\n",
       "  'Total': 480.0,\n",
       "  'HP': 105.0,\n",
       "  'Attack': 140.0,\n",
       "  'Defense': 55.0,\n",
       "  'SpecialAttack': 30.0,\n",
       "  'SpecialDefense': 55.0,\n",
       "  'Speed': 95.0},\n",
       " {'Name': 'Heatmor',\n",
       "  'Type': 'Fire',\n",
       "  'Total': 484.0,\n",
       "  'HP': 85.0,\n",
       "  'Attack': 97.0,\n",
       "  'Defense': 66.0,\n",
       "  'SpecialAttack': 105.0,\n",
       "  'SpecialDefense': 66.0,\n",
       "  'Speed': 65.0},\n",
       " {'Name': 'Braixen',\n",
       "  'Type': 'Fire',\n",
       "  'Total': 409.0,\n",
       "  'HP': 59.0,\n",
       "  'Attack': 59.0,\n",
       "  'Defense': 58.0,\n",
       "  'SpecialAttack': 90.0,\n",
       "  'SpecialDefense': 70.0,\n",
       "  'Speed': 73.0}]"
      ]
     },
     "execution_count": 25,
     "metadata": {},
     "output_type": "execute_result"
    }
   ],
   "source": [
    "def filtered_pokedex(pokedex_data, filter_options):\n",
    "    '''function to return list of pokemons based on filter options, i.e. attack >= 24, defense >= 30, and type == \"Electric\n",
    "    For numeric attributes, this function returns pokemons with attribute higher than the required values\n",
    "    For type/name attributes this function return pokemons of the required type/name\n",
    "    Note that for multiple filter options, the pokemons will filfull all the required attributes'''\n",
    "    \n",
    "    #Final list of pokemons to return\n",
    "    filtered_list = []\n",
    "    \n",
    "    #temp_lists to work with\n",
    "    temp_list1=[] \n",
    "    temp_list2=[]\n",
    "    \n",
    "    #generate list based on 1st criteria & store in filtered_list\n",
    "    firstkey = list(filter_options)[0]\n",
    "    for pokemon_id in pokedex_data:\n",
    "        # check if the filter options is looking for numeric attributes or alphabet attributes\n",
    "        if type(filter_options[firstkey]) == int and (pokedex_data[pokemon_id])[firstkey] >= filter_options[firstkey]:\n",
    "            filtered_list.append(pokedex_data[pokemon_id])\n",
    "        elif (pokedex_data[pokemon_id])[firstkey] == filter_options[firstkey]:\n",
    "            filtered_list.append(pokedex_data[pokemon_id])   \n",
    "   \n",
    "    #if there are more than 1 criteria, repeatedly loop to look for pokemon with required attributes\n",
    "    if len(filter_options.keys())>1:\n",
    "        # loop from 2nd criteria onwards\n",
    "        for i in range(1,len(filter_options.keys())):  \n",
    "            temp_list1.clear()\n",
    "            temp_list2.clear()\n",
    "            key = list(filter_options)[i]\n",
    "            \n",
    "            for pokemon_id in pokedex_data:\n",
    "                # check if the filter options is looking for numeric attributes or alphabet attributes\n",
    "                if type(filter_options[key]) == int and (pokedex_data[pokemon_id])[key] >= filter_options[key]:\n",
    "                    temp_list1.append(pokedex_data[pokemon_id])\n",
    "                elif (pokedex_data[pokemon_id])[key] == filter_options[key]:\n",
    "                    temp_list1.append(pokedex_data[pokemon_id])\n",
    "            \n",
    "            #compare between filtered_list & temp_list1 (based on another criteria) to look for \n",
    "            #same pokemons and populate temp_list2 (intersection list)           \n",
    "            for entry in filtered_list:\n",
    "                for line in temp_list1:\n",
    "                    if entry['Name'] == line['Name']:\n",
    "                        temp_list2.append(entry)\n",
    "            \n",
    "            #clear filtered_list & set filtered_list base on the intersection list as the new final list.\n",
    "            #to repeat the same process if needed for the next criteria if needed\n",
    "            filtered_list.clear()\n",
    "            filtered_list+=temp_list2  \n",
    "    return filtered_list\n",
    "\n",
    "filter_options =  {   \n",
    "    'Attack':   50,\n",
    "    'Defense':  50,\n",
    "    'Type':     'Fire'\n",
    "}\n",
    "filtered_pokedex(pokedex_data, filter_options)"
   ]
  },
  {
   "cell_type": "markdown",
   "metadata": {
    "collapsed": true
   },
   "source": [
    "\n",
    "## 9. Descriptive statistics on the prototype pokedex\n",
    "\n",
    "<img src=\"http://imgur.com/l5NasQj.png\" style=\"float: left; margin: 25px 15px 0px 0px; height: 25px\">\n",
    "### 9.1\n",
    "\n",
    "What is the population mean and standard deviation of the \"Total\" attribute for all characters in the Pokedex?\n",
    "\n"
   ]
  },
  {
   "cell_type": "code",
   "execution_count": 26,
   "metadata": {},
   "outputs": [
    {
     "name": "stdout",
     "output_type": "stream",
     "text": [
      "Population mean of Total attribute is 435.1275\n",
      "Standard deviation of Total attribute is 119.96202000529179\n"
     ]
    }
   ],
   "source": [
    "sum = 0\n",
    "count = len(pokedex_data.keys())\n",
    "for pokemon in pokedex_data:\n",
    "    sum+=(pokedex_data[pokemon])['Total']\n",
    "mean = sum/count\n",
    "print(\"Population mean of Total attribute is\", mean)\n",
    "\n",
    "summation = 0\n",
    "for pokemon in pokedex_data:\n",
    "    summation+=((pokedex_data[pokemon])['Total'] - mean)**2\n",
    "stan_dev = (summation/count)**0.5\n",
    "print(\"Standard deviation of Total attribute is\", stan_dev)"
   ]
  },
  {
   "cell_type": "markdown",
   "metadata": {},
   "source": [
    "<img src=\"http://imgur.com/l5NasQj.png\" style=\"float: left; margin: 25px 15px 0px 0px; height: 25px\">\n",
    "### 9.2\n",
    "\n",
    "The game is no fun if the characters are wildly unbalanced! Are any characters \"overpowered\", which we'll define as having a \"Total\" more than three standard deviations from the population mean?"
   ]
  },
  {
   "cell_type": "code",
   "execution_count": 28,
   "metadata": {},
   "outputs": [
    {
     "name": "stdout",
     "output_type": "stream",
     "text": [
      "Overpowered characters:\n",
      "['MewtwoMega Mewtwo X']\n"
     ]
    }
   ],
   "source": [
    "unbalanced_list = []\n",
    "for pokemon in pokedex_data:\n",
    "    if (pokedex_data[pokemon])['Total'] > (mean+3*stan_dev):\n",
    "        unbalanced_list.append((pokedex_data[pokemon])['Name'])\n",
    "\n",
    "#display output\n",
    "if len(unbalanced_list)!=0:\n",
    "    print('Overpowered characters:')\n",
    "    print(unbalanced_list)\n",
    "else:\n",
    "    print(\"No characters are overpowered\")"
   ]
  },
  {
   "cell_type": "markdown",
   "metadata": {},
   "source": [
    "<img src=\"http://imgur.com/xDpSobf.png\" style=\"float: left; margin: 25px 15px 0px 0px; height: 25px\">\n",
    "\n",
    "## 10. Calibrate the frequency of Pokemon\n",
    "\n",
    "The design team wants you to make the powerful Pokemon rare, and the weaklings more common. How would you set the probability $p_i$ of finding Pokemon *i* each time a player visits a gym?\n",
    "\n",
    "Write a function that takes in a Pokedex number and returns a value $p_i$ for that character.\n",
    "\n",
    "Hint: there are many ways you could do this. What do _you_ think makes sense? Start with simplifying assumptions: for example, you could assume that the probabilities of encountering any two Pokemon on one visit to a gym are independent of each other."
   ]
  },
  {
   "cell_type": "code",
   "execution_count": 30,
   "metadata": {},
   "outputs": [
    {
     "name": "stdout",
     "output_type": "stream",
     "text": [
      "Probability of finding Bulbasaur is 0.0006939334813150502\n"
     ]
    }
   ],
   "source": [
    "# propose to scale the probability based on the total attribute of pokemon, number of pokemonds and a multiplier factor\n",
    "#i.e. p = 1 / 'Total' * 1 / totalnumberofpokemons * factor\n",
    "# where factor is to be determined by suming all the probabilities of finding each pokemon = 1\n",
    "\n",
    "def setpokemonprobabilty(pokemon_id):\n",
    "    '''detemine probabilty of pokemon being encountered'''\n",
    "    \n",
    "    totalnumberofpokemons = len(pokedex_data)\n",
    "    summation = 0\n",
    "    \n",
    "    for id in pokedex_data.keys():\n",
    "        summation+=1/pokedex_data[id]['Total']*1/totalnumberofpokemons\n",
    "    factor = 1/summation\n",
    "    \n",
    "    return 1/pokedex_data[pokemon_id]['Total']*1/totalnumberofpokemons*factor\n",
    "\n",
    "print('Probability of finding', pokedex_data[1]['Name'], 'is', setpokemonprobabilty(493))"
   ]
  },
  {
   "cell_type": "code",
   "execution_count": null,
   "metadata": {},
   "outputs": [],
   "source": []
  }
 ],
 "metadata": {
  "anaconda-cloud": {},
  "kernelspec": {
   "display_name": "Python 3",
   "language": "python",
   "name": "python3"
  },
  "language_info": {
   "codemirror_mode": {
    "name": "ipython",
    "version": 3
   },
   "file_extension": ".py",
   "mimetype": "text/x-python",
   "name": "python",
   "nbconvert_exporter": "python",
   "pygments_lexer": "ipython3",
   "version": "3.7.1"
  }
 },
 "nbformat": 4,
 "nbformat_minor": 1
}
